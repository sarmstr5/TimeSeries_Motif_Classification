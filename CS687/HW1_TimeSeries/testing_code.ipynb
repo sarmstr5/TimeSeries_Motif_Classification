{
 "cells": [
  {
   "cell_type": "code",
   "execution_count": 7,
   "metadata": {},
   "outputs": [
    {
     "name": "stdout",
     "output_type": "stream",
     "text": [
      "['.git', 'cs674_hw1(1).pdf', 'dtw.py', 'hw1_datasets', 'hw1_main.py', 'process_data.py', 'testing_code.ipynb', 'timeseries_kNN.py', '__pycache__']\n"
     ]
    },
    {
     "ename": "FileNotFoundError",
     "evalue": "[WinError 3] The system cannot find the path specified: 'CS687/HW1_TimeSeries'",
     "traceback": [
      "\u001b[0;31m---------------------------------------------------------------------------\u001b[0m",
      "\u001b[0;31mFileNotFoundError\u001b[0m                         Traceback (most recent call last)",
      "\u001b[0;32m<ipython-input-7-2b27b4faf319>\u001b[0m in \u001b[0;36m<module>\u001b[0;34m()\u001b[0m\n\u001b[1;32m      1\u001b[0m \u001b[1;32mimport\u001b[0m \u001b[0mos\u001b[0m\u001b[1;33m\u001b[0m\u001b[0m\n\u001b[1;32m      2\u001b[0m \u001b[0mprint\u001b[0m\u001b[1;33m(\u001b[0m\u001b[0mos\u001b[0m\u001b[1;33m.\u001b[0m\u001b[0mlistdir\u001b[0m\u001b[1;33m(\u001b[0m\u001b[1;33m)\u001b[0m\u001b[1;33m)\u001b[0m\u001b[1;33m\u001b[0m\u001b[0m\n\u001b[0;32m----> 3\u001b[0;31m \u001b[0mos\u001b[0m\u001b[1;33m.\u001b[0m\u001b[0mchdir\u001b[0m\u001b[1;33m(\u001b[0m\u001b[1;34m'CS687/HW1_TimeSeries'\u001b[0m\u001b[1;33m)\u001b[0m\u001b[1;33m\u001b[0m\u001b[0m\n\u001b[0m",
      "\u001b[0;31mFileNotFoundError\u001b[0m: [WinError 3] The system cannot find the path specified: 'CS687/HW1_TimeSeries'"
     ],
     "output_type": "error"
    }
   ],
   "source": [
    "import os\n",
    "print(os.listdir())\n",
    "os.chdir('CS687/HW1_TimeSeries')"
   ]
  },
  {
   "cell_type": "code",
   "execution_count": 8,
   "metadata": {},
   "outputs": [],
   "source": [
    "import matplotlib.pyplot as plt\n",
    "import numpy as np\n",
    "import pandas as pd\n",
    "from timeseries_kNN import timeseries_kNN\n",
    "import os\n",
    "from heapq import nsmallest\n",
    "from random import shuffle\n",
    "from datetime import datetime as dt\n",
    "from multiprocessing.pool import ThreadPool\n",
    "from multiprocessing import Pool, cpu_count\n",
    "from threading import Thread\n",
    "from sklearn.neighbors import NearestNeighbors, KNeighborsRegressor\n",
    "from dask import delayed"
   ]
  },
  {
   "cell_type": "code",
   "execution_count": 14,
   "metadata": {},
   "outputs": [
    {
     "data": {
      "text/html": [
       "<div>\n",
       "<table border=\"1\" class=\"dataframe\">\n",
       "  <thead>\n",
       "    <tr style=\"text-align: right;\">\n",
       "      <th></th>\n",
       "      <th>1</th>\n",
       "      <th>2</th>\n",
       "      <th>3</th>\n",
       "      <th>4</th>\n",
       "      <th>5</th>\n",
       "      <th>6</th>\n",
       "      <th>7</th>\n",
       "      <th>8</th>\n",
       "      <th>9</th>\n",
       "      <th>10</th>\n",
       "      <th>...</th>\n",
       "      <th>119</th>\n",
       "      <th>120</th>\n",
       "      <th>121</th>\n",
       "      <th>122</th>\n",
       "      <th>123</th>\n",
       "      <th>124</th>\n",
       "      <th>125</th>\n",
       "      <th>126</th>\n",
       "      <th>127</th>\n",
       "      <th>128</th>\n",
       "    </tr>\n",
       "  </thead>\n",
       "  <tbody>\n",
       "    <tr>\n",
       "      <th>0</th>\n",
       "      <td>-1.186546</td>\n",
       "      <td>1.112753</td>\n",
       "      <td>1.499844</td>\n",
       "      <td>1.081663</td>\n",
       "      <td>1.425415</td>\n",
       "      <td>2.153796</td>\n",
       "      <td>1.518677</td>\n",
       "      <td>0.817144</td>\n",
       "      <td>1.196449</td>\n",
       "      <td>1.907417</td>\n",
       "      <td>...</td>\n",
       "      <td>0.920101</td>\n",
       "      <td>-0.007463</td>\n",
       "      <td>-0.218600</td>\n",
       "      <td>-0.494948</td>\n",
       "      <td>-0.103557</td>\n",
       "      <td>0.664229</td>\n",
       "      <td>0.945652</td>\n",
       "      <td>1.731896</td>\n",
       "      <td>1.228174</td>\n",
       "      <td>0.475412</td>\n",
       "    </tr>\n",
       "    <tr>\n",
       "      <th>1</th>\n",
       "      <td>0.407897</td>\n",
       "      <td>-0.583292</td>\n",
       "      <td>-0.739038</td>\n",
       "      <td>-1.673533</td>\n",
       "      <td>-0.065568</td>\n",
       "      <td>-0.018168</td>\n",
       "      <td>0.915209</td>\n",
       "      <td>-0.453858</td>\n",
       "      <td>-0.679295</td>\n",
       "      <td>-0.213708</td>\n",
       "      <td>...</td>\n",
       "      <td>-0.793742</td>\n",
       "      <td>-0.439977</td>\n",
       "      <td>-1.293828</td>\n",
       "      <td>1.242226</td>\n",
       "      <td>-0.620446</td>\n",
       "      <td>-0.492400</td>\n",
       "      <td>0.529914</td>\n",
       "      <td>-0.189582</td>\n",
       "      <td>0.256176</td>\n",
       "      <td>1.552341</td>\n",
       "    </tr>\n",
       "    <tr>\n",
       "      <th>2</th>\n",
       "      <td>-0.980611</td>\n",
       "      <td>-0.351831</td>\n",
       "      <td>-0.501440</td>\n",
       "      <td>-0.249934</td>\n",
       "      <td>-0.965480</td>\n",
       "      <td>-0.124003</td>\n",
       "      <td>-0.361499</td>\n",
       "      <td>-0.213201</td>\n",
       "      <td>-0.715557</td>\n",
       "      <td>-0.190532</td>\n",
       "      <td>...</td>\n",
       "      <td>-1.147009</td>\n",
       "      <td>-0.598236</td>\n",
       "      <td>-1.007310</td>\n",
       "      <td>-0.580817</td>\n",
       "      <td>-0.410211</td>\n",
       "      <td>-0.869793</td>\n",
       "      <td>-0.745043</td>\n",
       "      <td>-0.487621</td>\n",
       "      <td>-0.930685</td>\n",
       "      <td>-1.047306</td>\n",
       "    </tr>\n",
       "    <tr>\n",
       "      <th>3</th>\n",
       "      <td>-0.085029</td>\n",
       "      <td>0.091052</td>\n",
       "      <td>-1.140404</td>\n",
       "      <td>0.260809</td>\n",
       "      <td>0.360512</td>\n",
       "      <td>0.342949</td>\n",
       "      <td>-0.849694</td>\n",
       "      <td>-1.344433</td>\n",
       "      <td>-1.729363</td>\n",
       "      <td>-0.365701</td>\n",
       "      <td>...</td>\n",
       "      <td>-0.732892</td>\n",
       "      <td>0.455786</td>\n",
       "      <td>-0.905818</td>\n",
       "      <td>-0.034224</td>\n",
       "      <td>0.170775</td>\n",
       "      <td>0.470925</td>\n",
       "      <td>-0.173845</td>\n",
       "      <td>-0.166626</td>\n",
       "      <td>0.170123</td>\n",
       "      <td>0.135435</td>\n",
       "    </tr>\n",
       "    <tr>\n",
       "      <th>4</th>\n",
       "      <td>-1.053011</td>\n",
       "      <td>0.433085</td>\n",
       "      <td>-0.453950</td>\n",
       "      <td>0.146030</td>\n",
       "      <td>0.326497</td>\n",
       "      <td>-0.988377</td>\n",
       "      <td>-0.666821</td>\n",
       "      <td>-0.566277</td>\n",
       "      <td>-1.891093</td>\n",
       "      <td>-0.348393</td>\n",
       "      <td>...</td>\n",
       "      <td>3.153259</td>\n",
       "      <td>3.073105</td>\n",
       "      <td>3.398803</td>\n",
       "      <td>3.306304</td>\n",
       "      <td>4.264531</td>\n",
       "      <td>0.038569</td>\n",
       "      <td>-0.217056</td>\n",
       "      <td>-1.153955</td>\n",
       "      <td>-1.066324</td>\n",
       "      <td>-1.698859</td>\n",
       "    </tr>\n",
       "  </tbody>\n",
       "</table>\n",
       "<p>5 rows × 128 columns</p>\n",
       "</div>"
      ],
      "text/plain": [
       "<div>\n",
       "<table border=\"1\" class=\"dataframe\">\n",
       "  <thead>\n",
       "    <tr style=\"text-align: right;\">\n",
       "      <th></th>\n",
       "      <th>1</th>\n",
       "      <th>2</th>\n",
       "      <th>3</th>\n",
       "      <th>4</th>\n",
       "      <th>5</th>\n",
       "      <th>6</th>\n",
       "      <th>7</th>\n",
       "      <th>8</th>\n",
       "      <th>9</th>\n",
       "      <th>10</th>\n",
       "      <th>...</th>\n",
       "      <th>119</th>\n",
       "      <th>120</th>\n",
       "      <th>121</th>\n",
       "      <th>122</th>\n",
       "      <th>123</th>\n",
       "      <th>124</th>\n",
       "      <th>125</th>\n",
       "      <th>126</th>\n",
       "      <th>127</th>\n",
       "      <th>128</th>\n",
       "    </tr>\n",
       "  </thead>\n",
       "  <tbody>\n",
       "    <tr>\n",
       "      <th>0</th>\n",
       "      <td>-1.186546</td>\n",
       "      <td>1.112753</td>\n",
       "      <td>1.499844</td>\n",
       "      <td>1.081663</td>\n",
       "      <td>1.425415</td>\n",
       "      <td>2.153796</td>\n",
       "      <td>1.518677</td>\n",
       "      <td>0.817144</td>\n",
       "      <td>1.196449</td>\n",
       "      <td>1.907417</td>\n",
       "      <td>...</td>\n",
       "      <td>0.920101</td>\n",
       "      <td>-0.007463</td>\n",
       "      <td>-0.218600</td>\n",
       "      <td>-0.494948</td>\n",
       "      <td>-0.103557</td>\n",
       "      <td>0.664229</td>\n",
       "      <td>0.945652</td>\n",
       "      <td>1.731896</td>\n",
       "      <td>1.228174</td>\n",
       "      <td>0.475412</td>\n",
       "    </tr>\n",
       "    <tr>\n",
       "      <th>1</th>\n",
       "      <td>0.407897</td>\n",
       "      <td>-0.583292</td>\n",
       "      <td>-0.739038</td>\n",
       "      <td>-1.673533</td>\n",
       "      <td>-0.065568</td>\n",
       "      <td>-0.018168</td>\n",
       "      <td>0.915209</td>\n",
       "      <td>-0.453858</td>\n",
       "      <td>-0.679295</td>\n",
       "      <td>-0.213708</td>\n",
       "      <td>...</td>\n",
       "      <td>-0.793742</td>\n",
       "      <td>-0.439977</td>\n",
       "      <td>-1.293828</td>\n",
       "      <td>1.242226</td>\n",
       "      <td>-0.620446</td>\n",
       "      <td>-0.492400</td>\n",
       "      <td>0.529914</td>\n",
       "      <td>-0.189582</td>\n",
       "      <td>0.256176</td>\n",
       "      <td>1.552341</td>\n",
       "    </tr>\n",
       "    <tr>\n",
       "      <th>2</th>\n",
       "      <td>-0.980611</td>\n",
       "      <td>-0.351831</td>\n",
       "      <td>-0.501440</td>\n",
       "      <td>-0.249934</td>\n",
       "      <td>-0.965480</td>\n",
       "      <td>-0.124003</td>\n",
       "      <td>-0.361499</td>\n",
       "      <td>-0.213201</td>\n",
       "      <td>-0.715557</td>\n",
       "      <td>-0.190532</td>\n",
       "      <td>...</td>\n",
       "      <td>-1.147009</td>\n",
       "      <td>-0.598236</td>\n",
       "      <td>-1.007310</td>\n",
       "      <td>-0.580817</td>\n",
       "      <td>-0.410211</td>\n",
       "      <td>-0.869793</td>\n",
       "      <td>-0.745043</td>\n",
       "      <td>-0.487621</td>\n",
       "      <td>-0.930685</td>\n",
       "      <td>-1.047306</td>\n",
       "    </tr>\n",
       "    <tr>\n",
       "      <th>3</th>\n",
       "      <td>-0.085029</td>\n",
       "      <td>0.091052</td>\n",
       "      <td>-1.140404</td>\n",
       "      <td>0.260809</td>\n",
       "      <td>0.360512</td>\n",
       "      <td>0.342949</td>\n",
       "      <td>-0.849694</td>\n",
       "      <td>-1.344433</td>\n",
       "      <td>-1.729363</td>\n",
       "      <td>-0.365701</td>\n",
       "      <td>...</td>\n",
       "      <td>-0.732892</td>\n",
       "      <td>0.455786</td>\n",
       "      <td>-0.905818</td>\n",
       "      <td>-0.034224</td>\n",
       "      <td>0.170775</td>\n",
       "      <td>0.470925</td>\n",
       "      <td>-0.173845</td>\n",
       "      <td>-0.166626</td>\n",
       "      <td>0.170123</td>\n",
       "      <td>0.135435</td>\n",
       "    </tr>\n",
       "    <tr>\n",
       "      <th>4</th>\n",
       "      <td>-1.053011</td>\n",
       "      <td>0.433085</td>\n",
       "      <td>-0.453950</td>\n",
       "      <td>0.146030</td>\n",
       "      <td>0.326497</td>\n",
       "      <td>-0.988377</td>\n",
       "      <td>-0.666821</td>\n",
       "      <td>-0.566277</td>\n",
       "      <td>-1.891093</td>\n",
       "      <td>-0.348393</td>\n",
       "      <td>...</td>\n",
       "      <td>3.153259</td>\n",
       "      <td>3.073105</td>\n",
       "      <td>3.398803</td>\n",
       "      <td>3.306304</td>\n",
       "      <td>4.264531</td>\n",
       "      <td>0.038569</td>\n",
       "      <td>-0.217056</td>\n",
       "      <td>-1.153955</td>\n",
       "      <td>-1.066324</td>\n",
       "      <td>-1.698859</td>\n",
       "    </tr>\n",
       "  </tbody>\n",
       "</table>\n",
       "<p>5 rows × 128 columns</p>\n",
       "</div>"
      ]
     },
     "execution_count": 14,
     "metadata": {},
     "output_type": "execute_result"
    }
   ],
   "source": [
    "dataset1_test = 'hw1_datasets/dataset1/test_normalized.csv'\n",
    "test1_labels = 'hw1_datasets/dataset1/test_labels.csv'\n",
    "dataset1_train = 'hw1_datasets/dataset1/train_normalized.csv'\n",
    "train1_labels = 'hw1_datasets/dataset1/train_labels.csv'\n",
    "train1 = pd.read_csv(dataset1_train)\n",
    "test1 = pd.read_csv(dataset1_test, index_col=0)\n",
    "train1.head()\n",
    "test1.head()"
   ]
  },
  {
   "cell_type": "code",
   "execution_count": 11,
   "metadata": {},
   "outputs": [],
   "source": [
    "from heapq import nsmallest, nlargest\n",
    "from sklearn.neighbors import NearestNeighbors\n",
    "import numpy as np\n",
    "import pandas as pd\n",
    "from sys import stdout\n",
    "from random import shuffle\n",
    "from datetime import datetime as dt\n",
    "from threading import Thread\n",
    "from multiprocessing.pool import ThreadPool\n",
    "from multiprocessing import Process, cpu_count, Pool, Queue\n",
    "import json\n",
    "import math\n",
    "from itertools import chain\n",
    "import concurrent"
   ]
  },
  {
   "cell_type": "code",
   "execution_count": null,
   "metadata": {},
   "outputs": [],
   "source": [
    "def kNN(self, a_chunk):\n",
    "    '''\n",
    "    Runs kNN on chunk of test set\n",
    "\n",
    "    :param a_chunk:\n",
    "    :return:\n",
    "    '''\n",
    "    predictions = []\n",
    "    userid_list = []\n",
    "    movieid_list = []\n",
    "    userv_list = []\n",
    "    prediction_id_list = []\n",
    "    df = test1.iloc[a_chunk] # partition of test_df\n",
    "    i = 0\n",
    "    #name is None because of pickling issue with parallel\n",
    "    for test_i in df.itertuples(name=None):\n",
    "        if self.verbose:\n",
    "            print('t0-t10 : {}'.format(test_i[:10]))\n",
    "            print('ti: {}'.format(test_i))\n",
    "        print(test_i[0])\n",
    "\n",
    "        try:\n",
    "            # time_series = self.data[users_that_reviewed_movie]\n",
    "            euc_distances = self.data.apply(lambda test_i: self.dist(self.data, test_i[1:]), axis=1) # to each column\n",
    "            print('euclidean : {}'.format(euc_distances))\n",
    "            # using euclidean distance, returns list of tuples\n",
    "            neighbors = nlargest(self.k, euc_distances.iteritems(), key=lambda x: x[1:])\n",
    "            print('---after neighbors----')\n",
    "            # if list of tuples is not empty\n",
    "            neighbors = [(i,dist) for i,dist in neighbors]\n",
    "            print('the neighbors are: '.format(neighbors))\n",
    "            k_users, distances = zip(*neighbors)\n",
    "            # k_users, distances = [i,dist for i,dist in neighbors]\n",
    "            yhat = self.predict_yhat(test_i, k_users, distances)\n",
    "\n",
    "            if test_i[0] % 2 == 0:\n",
    "                if self.verbose: print('time is:{};\\tindex: {};\\tnumber of records: {};\\t{} percent complete; '\n",
    "                                       '\\t rhat: {};\\tthe review is:{}'.format(\n",
    "                    self.get_time(), i, len(df), round(i/len(df), 2), yhat, test_i))\n",
    "            predictions.append(yhat)\n",
    "            prediction_id_list.append(test_i)\n",
    "            # userv_list.append(user_v)\n",
    "            # userid_list.append(user_id)\n",
    "            # movieid_list.append(movie_id)\n",
    "\n",
    "            # self.test_df.set_value(index=user_id, col='prediction',value=yhat)\n",
    "            # if self.verbose:\n",
    "            #     print(self.test_df.loc[user_id,'prediction'])\n",
    "\n",
    "        except (KeyError, ValueError, TypeError) as err:\n",
    "            print(err)\n",
    "            print('Exception - Rating is dataframe mean')\n",
    "\n",
    "    return zip(prediction_id_list, predictions)"
   ]
  },
  {
   "cell_type": "code",
   "execution_count": 15,
   "metadata": {},
   "outputs": [
    {
     "data": {
      "text/plain": [
       "{1, 2, 3, 4, 5, 7}"
      ]
     },
     "execution_count": 15,
     "metadata": {},
     "output_type": "execute_result"
    }
   ],
   "source": [
    "somelist = [1,4,4,4,5,2,3,2,2,3,4,4,4,7]\n",
    "theset = set(somelist)\n",
    "theset"
   ]
  },
  {
   "cell_type": "code",
   "execution_count": 17,
   "metadata": {},
   "outputs": [
    {
     "data": {
      "text/plain": [
       "[1, 2, 3, 4, 5, 7]"
      ]
     },
     "execution_count": 17,
     "metadata": {},
     "output_type": "execute_result"
    }
   ],
   "source": [
    "l = list(theset)\n",
    "l"
   ]
  },
  {
   "cell_type": "code",
   "execution_count": 23,
   "metadata": {},
   "outputs": [
    {
     "data": {
      "text/plain": [
       "(175, 1)"
      ]
     },
     "execution_count": 23,
     "metadata": {},
     "output_type": "execute_result"
    }
   ],
   "source": [
    "fn = 'hw1_datasets/dataset2/train_labels.csv'\n",
    "labels2 = pd.read_csv(fn, index_col=0, header=None)\n",
    "labels2.shape"
   ]
  },
  {
   "cell_type": "code",
   "execution_count": 25,
   "metadata": {},
   "outputs": [],
   "source": [
    "def work_chunks(df, n_chunks):\n",
    "    num_rows = len(df)\n",
    "    steps = math.ceil(num_rows/n_chunks) #rounding errors causes out of bounds\n",
    "    return [slice(n, n+steps) for n in range(0, num_rows, steps)]  #should cover uneven steps"
   ]
  },
  {
   "cell_type": "code",
   "execution_count": 27,
   "metadata": {},
   "outputs": [
    {
     "data": {
      "text/plain": [
       "[slice(0, 44, None),\n slice(44, 88, None),\n slice(88, 132, None),\n slice(132, 176, None)]"
      ]
     },
     "execution_count": 27,
     "metadata": {},
     "output_type": "execute_result"
    }
   ],
   "source": [
    "slices = work_chunks(labels2, 4)\n",
    "slices"
   ]
  },
  {
   "cell_type": "code",
   "execution_count": 33,
   "metadata": {},
   "outputs": [],
   "source": [
    "l1 = labels2[slices[0]]"
   ]
  },
  {
   "cell_type": "code",
   "execution_count": 32,
   "metadata": {},
   "outputs": [
    {
     "data": {
      "text/html": [
       "<div>\n",
       "<table border=\"1\" class=\"dataframe\">\n",
       "  <thead>\n",
       "    <tr style=\"text-align: right;\">\n",
       "      <th></th>\n",
       "      <th>1</th>\n",
       "    </tr>\n",
       "    <tr>\n",
       "      <th>0</th>\n",
       "      <th></th>\n",
       "    </tr>\n",
       "  </thead>\n",
       "  <tbody>\n",
       "    <tr>\n",
       "      <th>170</th>\n",
       "      <td>7.0</td>\n",
       "    </tr>\n",
       "    <tr>\n",
       "      <th>171</th>\n",
       "      <td>7.0</td>\n",
       "    </tr>\n",
       "    <tr>\n",
       "      <th>172</th>\n",
       "      <td>5.0</td>\n",
       "    </tr>\n",
       "    <tr>\n",
       "      <th>173</th>\n",
       "      <td>1.0</td>\n",
       "    </tr>\n",
       "    <tr>\n",
       "      <th>174</th>\n",
       "      <td>3.0</td>\n",
       "    </tr>\n",
       "  </tbody>\n",
       "</table>\n",
       "</div>"
      ],
      "text/plain": [
       "<div>\n",
       "<table border=\"1\" class=\"dataframe\">\n",
       "  <thead>\n",
       "    <tr style=\"text-align: right;\">\n",
       "      <th></th>\n",
       "      <th>1</th>\n",
       "    </tr>\n",
       "    <tr>\n",
       "      <th>0</th>\n",
       "      <th></th>\n",
       "    </tr>\n",
       "  </thead>\n",
       "  <tbody>\n",
       "    <tr>\n",
       "      <th>170</th>\n",
       "      <td>7.0</td>\n",
       "    </tr>\n",
       "    <tr>\n",
       "      <th>171</th>\n",
       "      <td>7.0</td>\n",
       "    </tr>\n",
       "    <tr>\n",
       "      <th>172</th>\n",
       "      <td>5.0</td>\n",
       "    </tr>\n",
       "    <tr>\n",
       "      <th>173</th>\n",
       "      <td>1.0</td>\n",
       "    </tr>\n",
       "    <tr>\n",
       "      <th>174</th>\n",
       "      <td>3.0</td>\n",
       "    </tr>\n",
       "  </tbody>\n",
       "</table>\n",
       "</div>"
      ]
     },
     "execution_count": 32,
     "metadata": {},
     "output_type": "execute_result"
    }
   ],
   "source": [
    "labels2.tail()"
   ]
  },
  {
   "cell_type": "code",
   "execution_count": 1,
   "metadata": {},
   "outputs": [],
   "source": [
    ""
   ]
  },
  {
   "cell_type": "code",
   "execution_count": 38,
   "metadata": {},
   "outputs": [],
   "source": [
    "a = ((1,3), (3,4), (33,3),(4,5))\n",
    "c =(((1,3), (3,4)), ((33,3),(4,5)))"
   ]
  },
  {
   "cell_type": "code",
   "execution_count": 37,
   "metadata": {},
   "outputs": [
    {
     "data": {
      "text/plain": [
       "[(1, 3, 33, 4), (3, 4, 3, 5)]"
      ]
     },
     "execution_count": 37,
     "metadata": {},
     "output_type": "execute_result"
    }
   ],
   "source": [
    "b = list(zip(*a))\n",
    "b"
   ]
  },
  {
   "cell_type": "code",
   "execution_count": 40,
   "metadata": {},
   "outputs": [
    {
     "data": {
      "text/plain": [
       "[((1, 3), (3, 4)), ((33, 3), (4, 5))]"
      ]
     },
     "execution_count": 40,
     "metadata": {},
     "output_type": "execute_result"
    }
   ],
   "source": [
    "c = list(zip(*c))\n",
    "c"
   ]
  },
  {
   "cell_type": "code",
   "execution_count": 41,
   "metadata": {},
   "outputs": [],
   "source": [
    "q = [2,34,5,1,23,5]\n",
    "r = [3,22,1,23,3,4]"
   ]
  },
  {
   "cell_type": "code",
   "execution_count": 43,
   "metadata": {},
   "outputs": [],
   "source": [
    "t= zip(q,r)"
   ]
  },
  {
   "cell_type": "code",
   "execution_count": 44,
   "metadata": {},
   "outputs": [
    {
     "data": {
      "text/plain": [
       "[(2, 3), (34, 22), (5, 1), (1, 23), (23, 3), (5, 4)]"
      ]
     },
     "execution_count": 44,
     "metadata": {},
     "output_type": "execute_result"
    }
   ],
   "source": [
    "list(t)"
   ]
  },
  {
   "cell_type": "code",
   "execution_count": 49,
   "metadata": {},
   "outputs": [
    {
     "name": "stdout",
     "output_type": "stream",
     "text": [
      "(2, 3) (5, 7, 5) (9, 2, 4, 2)\n"
     ]
    }
   ],
   "source": [
    "tuple_list = [((2,3), (5,7,5), (9,2,4,2))]\n",
    "pad_tuple = (0, 0, 0)\n",
    "for t in tuple_list:\n",
    "    t += pad_tuple             # make sure the tuple is sufficiently long\n",
    "    x, y, z = t[:3]            # only extract the first three elements\n",
    "    print(x,y,z)"
   ]
  },
  {
   "cell_type": "code",
   "execution_count": 51,
   "metadata": {},
   "outputs": [
    {
     "data": {
      "text/plain": [
       "[(2, 3), (5, 7, 5), (9, 2, 4, 2)]"
      ]
     },
     "execution_count": 51,
     "metadata": {},
     "output_type": "execute_result"
    }
   ],
   "source": [
    "list(chain.from_iterable(tuple_list))"
   ]
  },
  {
   "cell_type": "code",
   "execution_count": 48,
   "metadata": {},
   "outputs": [
    {
     "data": {
      "text/plain": [
       "[(2, 5, 9), (3, 7, 2)]"
      ]
     },
     "execution_count": 48,
     "metadata": {},
     "output_type": "execute_result"
    }
   ],
   "source": [
    "list(zip(*tuple_list))"
   ]
  }
 ],
 "metadata": {
  "kernelspec": {
   "display_name": "Python 2",
   "language": "python",
   "name": "python2"
  },
  "language_info": {
   "codemirror_mode": {
    "name": "ipython",
    "version": 2.0
   },
   "file_extension": ".py",
   "mimetype": "text/x-python",
   "name": "python",
   "nbconvert_exporter": "python",
   "pygments_lexer": "ipython2",
   "version": "2.7.6"
  }
 },
 "nbformat": 4,
 "nbformat_minor": 0
}