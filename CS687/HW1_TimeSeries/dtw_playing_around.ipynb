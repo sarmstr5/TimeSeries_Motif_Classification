{
 "cells": [
  {
   "cell_type": "code",
   "execution_count": 5,
   "metadata": {},
   "outputs": [
    {
     "data": {
      "text/plain": [
       "['cs674_hw1(1).pdf',\n 'dtw.py',\n 'dtw_playing_around.ipynb',\n 'hw1_datasets',\n 'hw1_main.py',\n 'process_data.py',\n 'testing_code.ipynb',\n 'test_output',\n 'timeseries_kNN.py',\n '__pycache__']"
      ]
     },
     "execution_count": 5,
     "metadata": {},
     "output_type": "execute_result"
    }
   ],
   "source": [
    "import os\n",
    "os.chdir('CS687/HW1_TimeSeries')\n",
    "os.listdir()"
   ]
  },
  {
   "cell_type": "code",
   "execution_count": 6,
   "metadata": {},
   "outputs": [
    {
     "data": {
      "text/plain": [
       "['cs674_hw1(1).pdf',\n 'dtw.py',\n 'dtw_playing_around.ipynb',\n 'hw1_datasets',\n 'hw1_main.py',\n 'process_data.py',\n 'testing_code.ipynb',\n 'test_output',\n 'timeseries_kNN.py',\n '__pycache__']"
      ]
     },
     "execution_count": 6,
     "metadata": {},
     "output_type": "execute_result"
    }
   ],
   "source": [
    "# os.chdir('CS687/HW1_TimeSeries')\n",
    "# os.listdir()"
   ]
  },
  {
   "cell_type": "code",
   "execution_count": 7,
   "metadata": {},
   "outputs": [],
   "source": [
    "import matplotlib.pyplot as plt\n",
    "import numpy as np\n",
    "import pandas as pd\n",
    "from timeseries_kNN import timeseries_kNN\n",
    "import os\n",
    "from heapq import nsmallest\n",
    "from random import shuffle\n",
    "from datetime import datetime as dt\n",
    "from multiprocessing.pool import ThreadPool\n",
    "from multiprocessing import Pool, cpu_count\n",
    "from threading import Thread\n",
    "from sklearn.neighbors import NearestNeighbors, KNeighborsRegressor\n",
    "from dask import delayed\n",
    "from datetime import datetime as dt"
   ]
  },
  {
   "cell_type": "code",
   "execution_count": 8,
   "metadata": {},
   "outputs": [
    {
     "data": {
      "text/html": [
       "<div>\n",
       "<table border=\"1\" class=\"dataframe\">\n",
       "  <thead>\n",
       "    <tr style=\"text-align: right;\">\n",
       "      <th></th>\n",
       "      <th>1</th>\n",
       "      <th>2</th>\n",
       "      <th>3</th>\n",
       "      <th>4</th>\n",
       "      <th>5</th>\n",
       "      <th>6</th>\n",
       "      <th>7</th>\n",
       "      <th>8</th>\n",
       "      <th>9</th>\n",
       "      <th>10</th>\n",
       "      <th>...</th>\n",
       "      <th>119</th>\n",
       "      <th>120</th>\n",
       "      <th>121</th>\n",
       "      <th>122</th>\n",
       "      <th>123</th>\n",
       "      <th>124</th>\n",
       "      <th>125</th>\n",
       "      <th>126</th>\n",
       "      <th>127</th>\n",
       "      <th>128</th>\n",
       "    </tr>\n",
       "  </thead>\n",
       "  <tbody>\n",
       "    <tr>\n",
       "      <th>0</th>\n",
       "      <td>-1.186546</td>\n",
       "      <td>1.112753</td>\n",
       "      <td>1.499844</td>\n",
       "      <td>1.081663</td>\n",
       "      <td>1.425415</td>\n",
       "      <td>2.153796</td>\n",
       "      <td>1.518677</td>\n",
       "      <td>0.817144</td>\n",
       "      <td>1.196449</td>\n",
       "      <td>1.907417</td>\n",
       "      <td>...</td>\n",
       "      <td>0.920101</td>\n",
       "      <td>-0.007463</td>\n",
       "      <td>-0.218600</td>\n",
       "      <td>-0.494948</td>\n",
       "      <td>-0.103557</td>\n",
       "      <td>0.664229</td>\n",
       "      <td>0.945652</td>\n",
       "      <td>1.731896</td>\n",
       "      <td>1.228174</td>\n",
       "      <td>0.475412</td>\n",
       "    </tr>\n",
       "    <tr>\n",
       "      <th>1</th>\n",
       "      <td>0.407897</td>\n",
       "      <td>-0.583292</td>\n",
       "      <td>-0.739038</td>\n",
       "      <td>-1.673533</td>\n",
       "      <td>-0.065568</td>\n",
       "      <td>-0.018168</td>\n",
       "      <td>0.915209</td>\n",
       "      <td>-0.453858</td>\n",
       "      <td>-0.679295</td>\n",
       "      <td>-0.213708</td>\n",
       "      <td>...</td>\n",
       "      <td>-0.793742</td>\n",
       "      <td>-0.439977</td>\n",
       "      <td>-1.293828</td>\n",
       "      <td>1.242226</td>\n",
       "      <td>-0.620446</td>\n",
       "      <td>-0.492400</td>\n",
       "      <td>0.529914</td>\n",
       "      <td>-0.189582</td>\n",
       "      <td>0.256176</td>\n",
       "      <td>1.552341</td>\n",
       "    </tr>\n",
       "    <tr>\n",
       "      <th>2</th>\n",
       "      <td>-0.980611</td>\n",
       "      <td>-0.351831</td>\n",
       "      <td>-0.501440</td>\n",
       "      <td>-0.249934</td>\n",
       "      <td>-0.965480</td>\n",
       "      <td>-0.124003</td>\n",
       "      <td>-0.361499</td>\n",
       "      <td>-0.213201</td>\n",
       "      <td>-0.715557</td>\n",
       "      <td>-0.190532</td>\n",
       "      <td>...</td>\n",
       "      <td>-1.147009</td>\n",
       "      <td>-0.598236</td>\n",
       "      <td>-1.007310</td>\n",
       "      <td>-0.580817</td>\n",
       "      <td>-0.410211</td>\n",
       "      <td>-0.869793</td>\n",
       "      <td>-0.745043</td>\n",
       "      <td>-0.487621</td>\n",
       "      <td>-0.930685</td>\n",
       "      <td>-1.047306</td>\n",
       "    </tr>\n",
       "    <tr>\n",
       "      <th>3</th>\n",
       "      <td>-0.085029</td>\n",
       "      <td>0.091052</td>\n",
       "      <td>-1.140404</td>\n",
       "      <td>0.260809</td>\n",
       "      <td>0.360512</td>\n",
       "      <td>0.342949</td>\n",
       "      <td>-0.849694</td>\n",
       "      <td>-1.344433</td>\n",
       "      <td>-1.729363</td>\n",
       "      <td>-0.365701</td>\n",
       "      <td>...</td>\n",
       "      <td>-0.732892</td>\n",
       "      <td>0.455786</td>\n",
       "      <td>-0.905818</td>\n",
       "      <td>-0.034224</td>\n",
       "      <td>0.170775</td>\n",
       "      <td>0.470925</td>\n",
       "      <td>-0.173845</td>\n",
       "      <td>-0.166626</td>\n",
       "      <td>0.170123</td>\n",
       "      <td>0.135435</td>\n",
       "    </tr>\n",
       "    <tr>\n",
       "      <th>4</th>\n",
       "      <td>-1.053011</td>\n",
       "      <td>0.433085</td>\n",
       "      <td>-0.453950</td>\n",
       "      <td>0.146030</td>\n",
       "      <td>0.326497</td>\n",
       "      <td>-0.988377</td>\n",
       "      <td>-0.666821</td>\n",
       "      <td>-0.566277</td>\n",
       "      <td>-1.891093</td>\n",
       "      <td>-0.348393</td>\n",
       "      <td>...</td>\n",
       "      <td>3.153259</td>\n",
       "      <td>3.073105</td>\n",
       "      <td>3.398803</td>\n",
       "      <td>3.306304</td>\n",
       "      <td>4.264531</td>\n",
       "      <td>0.038569</td>\n",
       "      <td>-0.217056</td>\n",
       "      <td>-1.153955</td>\n",
       "      <td>-1.066324</td>\n",
       "      <td>-1.698859</td>\n",
       "    </tr>\n",
       "  </tbody>\n",
       "</table>\n",
       "<p>5 rows × 128 columns</p>\n",
       "</div>"
      ],
      "text/plain": [
       "<div>\n",
       "<table border=\"1\" class=\"dataframe\">\n",
       "  <thead>\n",
       "    <tr style=\"text-align: right;\">\n",
       "      <th></th>\n",
       "      <th>1</th>\n",
       "      <th>2</th>\n",
       "      <th>3</th>\n",
       "      <th>4</th>\n",
       "      <th>5</th>\n",
       "      <th>6</th>\n",
       "      <th>7</th>\n",
       "      <th>8</th>\n",
       "      <th>9</th>\n",
       "      <th>10</th>\n",
       "      <th>...</th>\n",
       "      <th>119</th>\n",
       "      <th>120</th>\n",
       "      <th>121</th>\n",
       "      <th>122</th>\n",
       "      <th>123</th>\n",
       "      <th>124</th>\n",
       "      <th>125</th>\n",
       "      <th>126</th>\n",
       "      <th>127</th>\n",
       "      <th>128</th>\n",
       "    </tr>\n",
       "  </thead>\n",
       "  <tbody>\n",
       "    <tr>\n",
       "      <th>0</th>\n",
       "      <td>-1.186546</td>\n",
       "      <td>1.112753</td>\n",
       "      <td>1.499844</td>\n",
       "      <td>1.081663</td>\n",
       "      <td>1.425415</td>\n",
       "      <td>2.153796</td>\n",
       "      <td>1.518677</td>\n",
       "      <td>0.817144</td>\n",
       "      <td>1.196449</td>\n",
       "      <td>1.907417</td>\n",
       "      <td>...</td>\n",
       "      <td>0.920101</td>\n",
       "      <td>-0.007463</td>\n",
       "      <td>-0.218600</td>\n",
       "      <td>-0.494948</td>\n",
       "      <td>-0.103557</td>\n",
       "      <td>0.664229</td>\n",
       "      <td>0.945652</td>\n",
       "      <td>1.731896</td>\n",
       "      <td>1.228174</td>\n",
       "      <td>0.475412</td>\n",
       "    </tr>\n",
       "    <tr>\n",
       "      <th>1</th>\n",
       "      <td>0.407897</td>\n",
       "      <td>-0.583292</td>\n",
       "      <td>-0.739038</td>\n",
       "      <td>-1.673533</td>\n",
       "      <td>-0.065568</td>\n",
       "      <td>-0.018168</td>\n",
       "      <td>0.915209</td>\n",
       "      <td>-0.453858</td>\n",
       "      <td>-0.679295</td>\n",
       "      <td>-0.213708</td>\n",
       "      <td>...</td>\n",
       "      <td>-0.793742</td>\n",
       "      <td>-0.439977</td>\n",
       "      <td>-1.293828</td>\n",
       "      <td>1.242226</td>\n",
       "      <td>-0.620446</td>\n",
       "      <td>-0.492400</td>\n",
       "      <td>0.529914</td>\n",
       "      <td>-0.189582</td>\n",
       "      <td>0.256176</td>\n",
       "      <td>1.552341</td>\n",
       "    </tr>\n",
       "    <tr>\n",
       "      <th>2</th>\n",
       "      <td>-0.980611</td>\n",
       "      <td>-0.351831</td>\n",
       "      <td>-0.501440</td>\n",
       "      <td>-0.249934</td>\n",
       "      <td>-0.965480</td>\n",
       "      <td>-0.124003</td>\n",
       "      <td>-0.361499</td>\n",
       "      <td>-0.213201</td>\n",
       "      <td>-0.715557</td>\n",
       "      <td>-0.190532</td>\n",
       "      <td>...</td>\n",
       "      <td>-1.147009</td>\n",
       "      <td>-0.598236</td>\n",
       "      <td>-1.007310</td>\n",
       "      <td>-0.580817</td>\n",
       "      <td>-0.410211</td>\n",
       "      <td>-0.869793</td>\n",
       "      <td>-0.745043</td>\n",
       "      <td>-0.487621</td>\n",
       "      <td>-0.930685</td>\n",
       "      <td>-1.047306</td>\n",
       "    </tr>\n",
       "    <tr>\n",
       "      <th>3</th>\n",
       "      <td>-0.085029</td>\n",
       "      <td>0.091052</td>\n",
       "      <td>-1.140404</td>\n",
       "      <td>0.260809</td>\n",
       "      <td>0.360512</td>\n",
       "      <td>0.342949</td>\n",
       "      <td>-0.849694</td>\n",
       "      <td>-1.344433</td>\n",
       "      <td>-1.729363</td>\n",
       "      <td>-0.365701</td>\n",
       "      <td>...</td>\n",
       "      <td>-0.732892</td>\n",
       "      <td>0.455786</td>\n",
       "      <td>-0.905818</td>\n",
       "      <td>-0.034224</td>\n",
       "      <td>0.170775</td>\n",
       "      <td>0.470925</td>\n",
       "      <td>-0.173845</td>\n",
       "      <td>-0.166626</td>\n",
       "      <td>0.170123</td>\n",
       "      <td>0.135435</td>\n",
       "    </tr>\n",
       "    <tr>\n",
       "      <th>4</th>\n",
       "      <td>-1.053011</td>\n",
       "      <td>0.433085</td>\n",
       "      <td>-0.453950</td>\n",
       "      <td>0.146030</td>\n",
       "      <td>0.326497</td>\n",
       "      <td>-0.988377</td>\n",
       "      <td>-0.666821</td>\n",
       "      <td>-0.566277</td>\n",
       "      <td>-1.891093</td>\n",
       "      <td>-0.348393</td>\n",
       "      <td>...</td>\n",
       "      <td>3.153259</td>\n",
       "      <td>3.073105</td>\n",
       "      <td>3.398803</td>\n",
       "      <td>3.306304</td>\n",
       "      <td>4.264531</td>\n",
       "      <td>0.038569</td>\n",
       "      <td>-0.217056</td>\n",
       "      <td>-1.153955</td>\n",
       "      <td>-1.066324</td>\n",
       "      <td>-1.698859</td>\n",
       "    </tr>\n",
       "  </tbody>\n",
       "</table>\n",
       "<p>5 rows × 128 columns</p>\n",
       "</div>"
      ]
     },
     "execution_count": 8,
     "metadata": {},
     "output_type": "execute_result"
    }
   ],
   "source": [
    "dataset1_test = 'hw1_datasets/dataset1/test_normalized.csv'\n",
    "test1_labels = 'hw1_datasets/dataset1/test_labels.csv'\n",
    "dataset1_train = 'hw1_datasets/dataset1/train_normalized.csv'\n",
    "train1_labels = 'hw1_datasets/dataset1/train_labels.csv'\n",
    "train1 = pd.read_csv(dataset1_train)\n",
    "test1 = pd.read_csv(dataset1_test, index_col=0)\n",
    "train1.head()\n",
    "test1.head()"
   ]
  },
  {
   "cell_type": "code",
   "execution_count": 9,
   "metadata": {},
   "outputs": [
    {
     "data": {
      "text/plain": [
       "10"
      ]
     },
     "execution_count": 9,
     "metadata": {},
     "output_type": "execute_result"
    }
   ],
   "source": [
    "x = np.array(range(0,10))\n",
    "y = np.array(range(0,10))\n",
    "len(x)"
   ]
  },
  {
   "cell_type": "code",
   "execution_count": 10,
   "metadata": {},
   "outputs": [
    {
     "data": {
      "text/plain": [
       "True"
      ]
     },
     "execution_count": 10,
     "metadata": {},
     "output_type": "execute_result"
    }
   ],
   "source": [
    "x.shape == y.shape"
   ]
  },
  {
   "cell_type": "code",
   "execution_count": 11,
   "metadata": {},
   "outputs": [],
   "source": [
    "def get_time():\n",
    "    time = dt.now()\n",
    "    hour, minute = str(time.hour), str(time.minute)\n",
    "    if(len(minute) == 1):\n",
    "        minute = '0'+ minute\n",
    "    if(len(hour) == 1):\n",
    "        hour = '0' + hour\n",
    "    if (len(second) ==1):\n",
    "        second = '0' + second\n",
    "    time = hour + minute + '.' + second\n",
    "    return time"
   ]
  },
  {
   "cell_type": "code",
   "execution_count": 12,
   "metadata": {},
   "outputs": [],
   "source": [
    "def dtw_dist(verbose, x, y, w):\n",
    "    if verbose:\n",
    "        print('in dtw_dist: {}'.format(get_time()))\n",
    "    # pass\n",
    "    width = w\n",
    "    # calculate distance matrix\n",
    "    dtw_dist_mx = create_dist_mx(verbose, width, x, y)\n",
    "    # calculate shortest path\n",
    "\n",
    "    return shortest_path"
   ]
  },
  {
   "cell_type": "code",
   "execution_count": 13,
   "metadata": {
    "collapsed": true
   },
   "outputs": [],
   "source": [
    "def calculate_width(verbose):\n",
    "    if verbose:\n",
    "        print(\"Calculating width: {}\".format(get_time()))\n",
    "    pass"
   ]
  },
  {
   "cell_type": "code",
   "execution_count": 14,
   "metadata": {},
   "outputs": [],
   "source": [
    "def create_dist_mx(verbose, x, y):\n",
    "    if verbose:\n",
    "        print('Creating distance Matrix: {}'.format(get_time()))\n",
    "    #create an array\n",
    "    assert x.shape == y.shape, 'The shapes dont match'\n",
    "    dist_mx = np.zeros(shape=(x.shape[0], y.shape[0]))\n",
    "    dist_mx[:] = np.inf\n",
    "    i = 0\n",
    "    j = 0\n",
    "    for i in range(0, dist_mx.shape[0]):\n",
    "        for j in range(0, dist_mx.shape[0]):\n",
    "            dist_mx[i][j] = np.abs(x[i] - y[j])\n",
    "    return dist_mx"
   ]
  },
  {
   "cell_type": "code",
   "execution_count": 15,
   "metadata": {},
   "outputs": [],
   "source": [
    "def shortest_path(verbose, dist_arr, width):\n",
    "    if verbose:\n",
    "        print(\"Calculating shortest distance; {}\".format(get_time()))\n",
    "    # should i start at the end or begining\n",
    "    i, j, iteration = 0, 0, 0\n",
    "    # when the final j is reached, the path is found\n",
    "    last_i, last_j = dist_arr.shape[0], dist_arr.shape[1]\n",
    "    \n",
    "    path = [] # keep each index, may not be necessary\n",
    "    path_cost = [] # keep cost of each step\n",
    "    still_searching = True\n",
    "    while(still_searching): # maybe lastj - w and lasti - w\n",
    "        if verbose: print('Searching for shortest path index i: {};\\tindex j: {}'.format(i,j))\n",
    "        step, i, j = get_next_step(i, j, dist_arr, width, iteration) # [index, value] is this a problem? The distance matrix will be in memory now 3 times? or am i just passing by reference\n",
    "        path.append([i, j])\n",
    "        path_cost.append(step[1])\n",
    "        iteration += 1\n",
    "        \n",
    "        if (i >= last_i) or (j >= last_j):  # might change to include width\n",
    "            still_searching = False\n",
    "            \n",
    "    return np.sum(path_cost), path, iteration"
   ]
  },
  {
   "cell_type": "code",
   "execution_count": 16,
   "metadata": {},
   "outputs": [],
   "source": [
    "mx = create_dist_mx(False, x, y)"
   ]
  },
  {
   "cell_type": "code",
   "execution_count": 17,
   "metadata": {},
   "outputs": [
    {
     "data": {
      "text/plain": [
       "array([[ 0.,  1.,  2.,  3.,  4.,  5.,  6.,  7.,  8.,  9.],\n       [ 1.,  0.,  1.,  2.,  3.,  4.,  5.,  6.,  7.,  8.],\n       [ 2.,  1.,  0.,  1.,  2.,  3.,  4.,  5.,  6.,  7.],\n       [ 3.,  2.,  1.,  0.,  1.,  2.,  3.,  4.,  5.,  6.],\n       [ 4.,  3.,  2.,  1.,  0.,  1.,  2.,  3.,  4.,  5.],\n       [ 5.,  4.,  3.,  2.,  1.,  0.,  1.,  2.,  3.,  4.],\n       [ 6.,  5.,  4.,  3.,  2.,  1.,  0.,  1.,  2.,  3.],\n       [ 7.,  6.,  5.,  4.,  3.,  2.,  1.,  0.,  1.,  2.],\n       [ 8.,  7.,  6.,  5.,  4.,  3.,  2.,  1.,  0.,  1.],\n       [ 9.,  8.,  7.,  6.,  5.,  4.,  3.,  2.,  1.,  0.]])"
      ]
     },
     "execution_count": 17,
     "metadata": {},
     "output_type": "execute_result"
    }
   ],
   "source": [
    "mx"
   ]
  },
  {
   "cell_type": "code",
   "execution_count": 52,
   "metadata": {},
   "outputs": [],
   "source": [
    "def get_next_step(i, j, dist_mx, w, iteration):\n",
    "    # make an assertion regarding size of i and j?\n",
    "    if w is None:\n",
    "        w = iteration\n",
    "    \n",
    "    # checking if parameters are within the warping width\n",
    "    if i <= (iteration-w):\n",
    "        diagonal, right, down = dist_mx[i+1][j+1], np.inf, dist_mx[i+1][j]\n",
    "    elif j <= (iteration-w):\n",
    "        diagonal, right, down = dist_mx[i+1][j+1], dist_mx[i][j+1], np.inf \n",
    "    else: \n",
    "        diagonal, right, down = dist_mx[i+1][j+1], dist_mx[i][j+1], dist_mx[i+1][j]\n",
    "\n",
    "    step_mx = [diagonal, right, down]\n",
    "    next_step = [np.argmin(step_mx), min(step_mx)]  # [index, value]\n",
    "    \n",
    "    if next_step[0] == 0: # column increases, step right\n",
    "        j += 1\n",
    "    elif next_step[0] == 1:  # diagonal step\n",
    "        i += 1\n",
    "        j += 1\n",
    "    else: # step down\n",
    "        i += 1\n",
    "    return next_step, i, j"
   ]
  },
  {
   "cell_type": "code",
   "execution_count": 53,
   "metadata": {},
   "outputs": [
    {
     "ename": "IndexError",
     "evalue": "index 10 is out of bounds for axis 0 with size 10",
     "traceback": [
      "\u001b[0;31m---------------------------------------------------------------------------\u001b[0m",
      "\u001b[0;31mIndexError\u001b[0m                                Traceback (most recent call last)",
      "\u001b[0;32m<ipython-input-53-0c8ed9618264>\u001b[0m in \u001b[0;36m<module>\u001b[0;34m()\u001b[0m\n\u001b[0;32m----> 1\u001b[0;31m \u001b[0mshortest_path\u001b[0m\u001b[1;33m(\u001b[0m\u001b[1;32mFalse\u001b[0m\u001b[1;33m,\u001b[0m \u001b[0mmx\u001b[0m\u001b[1;33m,\u001b[0m \u001b[1;32mNone\u001b[0m\u001b[1;33m)\u001b[0m\u001b[1;33m\u001b[0m\u001b[0m\n\u001b[0m",
      "\u001b[0;32m<ipython-input-50-31084d3925c3>\u001b[0m in \u001b[0;36mshortest_path\u001b[0;34m(verbose, dist_arr, width)\u001b[0m\n\u001b[1;32m     12\u001b[0m     \u001b[1;32mwhile\u001b[0m\u001b[1;33m(\u001b[0m\u001b[0mstill_searching\u001b[0m\u001b[1;33m)\u001b[0m\u001b[1;33m:\u001b[0m \u001b[1;31m# maybe lastj - w and lasti - w\u001b[0m\u001b[1;33m\u001b[0m\u001b[0m\n\u001b[1;32m     13\u001b[0m         \u001b[1;32mif\u001b[0m \u001b[0mverbose\u001b[0m\u001b[1;33m:\u001b[0m \u001b[0mprint\u001b[0m\u001b[1;33m(\u001b[0m\u001b[1;34m'Searching for shortest path index i: {};\\tindex j: {}'\u001b[0m\u001b[1;33m.\u001b[0m\u001b[0mformat\u001b[0m\u001b[1;33m(\u001b[0m\u001b[0mi\u001b[0m\u001b[1;33m,\u001b[0m\u001b[0mj\u001b[0m\u001b[1;33m)\u001b[0m\u001b[1;33m)\u001b[0m\u001b[1;33m\u001b[0m\u001b[0m\n\u001b[0;32m---> 14\u001b[0;31m         \u001b[0mstep\u001b[0m\u001b[1;33m,\u001b[0m \u001b[0mi\u001b[0m\u001b[1;33m,\u001b[0m \u001b[0mj\u001b[0m \u001b[1;33m=\u001b[0m \u001b[0mget_next_step\u001b[0m\u001b[1;33m(\u001b[0m\u001b[0mi\u001b[0m\u001b[1;33m,\u001b[0m \u001b[0mj\u001b[0m\u001b[1;33m,\u001b[0m \u001b[0mdist_arr\u001b[0m\u001b[1;33m,\u001b[0m \u001b[0mwidth\u001b[0m\u001b[1;33m,\u001b[0m \u001b[0miteration\u001b[0m\u001b[1;33m)\u001b[0m \u001b[1;31m# [index, value] is this a problem? The distance matrix will be in memory now 3 times? or am i just passing by reference\u001b[0m\u001b[1;33m\u001b[0m\u001b[0m\n\u001b[0m\u001b[1;32m     15\u001b[0m         \u001b[0mpath\u001b[0m\u001b[1;33m.\u001b[0m\u001b[0mappend\u001b[0m\u001b[1;33m(\u001b[0m\u001b[1;33m[\u001b[0m\u001b[0mi\u001b[0m\u001b[1;33m,\u001b[0m \u001b[0mj\u001b[0m\u001b[1;33m]\u001b[0m\u001b[1;33m)\u001b[0m\u001b[1;33m\u001b[0m\u001b[0m\n\u001b[1;32m     16\u001b[0m         \u001b[0mpath_cost\u001b[0m\u001b[1;33m.\u001b[0m\u001b[0mappend\u001b[0m\u001b[1;33m(\u001b[0m\u001b[0mstep\u001b[0m\u001b[1;33m[\u001b[0m\u001b[1;36m1\u001b[0m\u001b[1;33m]\u001b[0m\u001b[1;33m)\u001b[0m\u001b[1;33m\u001b[0m\u001b[0m\n",
      "\u001b[0;32m<ipython-input-52-800b427433e4>\u001b[0m in \u001b[0;36mget_next_step\u001b[0;34m(i, j, dist_mx, w, iteration)\u001b[0m\n\u001b[1;32m     10\u001b[0m         \u001b[0mright\u001b[0m\u001b[1;33m,\u001b[0m \u001b[0mdiagonal\u001b[0m\u001b[1;33m,\u001b[0m \u001b[0mdown\u001b[0m \u001b[1;33m=\u001b[0m \u001b[0mdist_mx\u001b[0m\u001b[1;33m[\u001b[0m\u001b[0mi\u001b[0m\u001b[1;33m]\u001b[0m\u001b[1;33m[\u001b[0m\u001b[0mj\u001b[0m\u001b[1;33m+\u001b[0m\u001b[1;36m1\u001b[0m\u001b[1;33m]\u001b[0m\u001b[1;33m,\u001b[0m \u001b[0mdist_mx\u001b[0m\u001b[1;33m[\u001b[0m\u001b[0mi\u001b[0m\u001b[1;33m+\u001b[0m\u001b[1;36m1\u001b[0m\u001b[1;33m]\u001b[0m\u001b[1;33m[\u001b[0m\u001b[0mj\u001b[0m\u001b[1;33m+\u001b[0m\u001b[1;36m1\u001b[0m\u001b[1;33m]\u001b[0m\u001b[1;33m,\u001b[0m \u001b[0mnp\u001b[0m\u001b[1;33m.\u001b[0m\u001b[0minf\u001b[0m\u001b[1;33m\u001b[0m\u001b[0m\n\u001b[1;32m     11\u001b[0m     \u001b[1;32melse\u001b[0m\u001b[1;33m:\u001b[0m\u001b[1;33m\u001b[0m\u001b[0m\n\u001b[0;32m---> 12\u001b[0;31m         \u001b[0mright\u001b[0m\u001b[1;33m,\u001b[0m \u001b[0mdiagonal\u001b[0m\u001b[1;33m,\u001b[0m \u001b[0mdown\u001b[0m \u001b[1;33m=\u001b[0m \u001b[0mdist_mx\u001b[0m\u001b[1;33m[\u001b[0m\u001b[0mi\u001b[0m\u001b[1;33m]\u001b[0m\u001b[1;33m[\u001b[0m\u001b[0mj\u001b[0m\u001b[1;33m+\u001b[0m\u001b[1;36m1\u001b[0m\u001b[1;33m]\u001b[0m\u001b[1;33m,\u001b[0m \u001b[0mdist_mx\u001b[0m\u001b[1;33m[\u001b[0m\u001b[0mi\u001b[0m\u001b[1;33m+\u001b[0m\u001b[1;36m1\u001b[0m\u001b[1;33m]\u001b[0m\u001b[1;33m[\u001b[0m\u001b[0mj\u001b[0m\u001b[1;33m+\u001b[0m\u001b[1;36m1\u001b[0m\u001b[1;33m]\u001b[0m\u001b[1;33m,\u001b[0m \u001b[0mdist_mx\u001b[0m\u001b[1;33m[\u001b[0m\u001b[0mi\u001b[0m\u001b[1;33m+\u001b[0m\u001b[1;36m1\u001b[0m\u001b[1;33m]\u001b[0m\u001b[1;33m[\u001b[0m\u001b[0mj\u001b[0m\u001b[1;33m]\u001b[0m\u001b[1;33m\u001b[0m\u001b[0m\n\u001b[0m\u001b[1;32m     13\u001b[0m \u001b[1;33m\u001b[0m\u001b[0m\n\u001b[1;32m     14\u001b[0m     \u001b[0mstep_mx\u001b[0m \u001b[1;33m=\u001b[0m \u001b[1;33m[\u001b[0m\u001b[0mdist_mx\u001b[0m\u001b[1;33m[\u001b[0m\u001b[0mi\u001b[0m\u001b[1;33m]\u001b[0m\u001b[1;33m[\u001b[0m\u001b[0mj\u001b[0m\u001b[1;33m+\u001b[0m\u001b[1;36m1\u001b[0m\u001b[1;33m]\u001b[0m\u001b[1;33m,\u001b[0m \u001b[0mdist_mx\u001b[0m\u001b[1;33m[\u001b[0m\u001b[0mi\u001b[0m\u001b[1;33m+\u001b[0m\u001b[1;36m1\u001b[0m\u001b[1;33m]\u001b[0m\u001b[1;33m[\u001b[0m\u001b[0mj\u001b[0m\u001b[1;33m+\u001b[0m\u001b[1;36m1\u001b[0m\u001b[1;33m]\u001b[0m\u001b[1;33m,\u001b[0m \u001b[0mdist_mx\u001b[0m\u001b[1;33m[\u001b[0m\u001b[0mi\u001b[0m\u001b[1;33m+\u001b[0m\u001b[1;36m1\u001b[0m\u001b[1;33m]\u001b[0m\u001b[1;33m[\u001b[0m\u001b[0mj\u001b[0m\u001b[1;33m]\u001b[0m \u001b[1;33m]\u001b[0m\u001b[1;33m\u001b[0m\u001b[0m\n",
      "\u001b[0;31mIndexError\u001b[0m: index 10 is out of bounds for axis 0 with size 10"
     ],
     "output_type": "error"
    }
   ],
   "source": [
    "shortest_path(False, mx, None)"
   ]
  },
  {
   "cell_type": "code",
   "execution_count": 31,
   "metadata": {},
   "outputs": [],
   "source": [
    "w= None"
   ]
  },
  {
   "cell_type": "code",
   "execution_count": 32,
   "metadata": {},
   "outputs": [
    {
     "name": "stdout",
     "output_type": "stream",
     "text": [
      "hey\n"
     ]
    }
   ],
   "source": [
    "if w is None:\n",
    "    print('hey')\n",
    "else:\n",
    "    print('else')"
   ]
  },
  {
   "cell_type": "code",
   "execution_count": 25,
   "metadata": {},
   "outputs": [
    {
     "data": {
      "text/plain": [
       "1"
      ]
     },
     "execution_count": 25,
     "metadata": {},
     "output_type": "execute_result"
    }
   ],
   "source": [
    "a = [1,23,None,7,8,99,34]\n",
    "min(a[0], a[4], a[6])"
   ]
  },
  {
   "cell_type": "code",
   "execution_count": 48,
   "metadata": {},
   "outputs": [
    {
     "data": {
      "text/plain": [
       "0"
      ]
     },
     "execution_count": 48,
     "metadata": {},
     "output_type": "execute_result"
    }
   ],
   "source": [
    "min(range(len(a)), key=a.__getitem__)"
   ]
  },
  {
   "cell_type": "code",
   "execution_count": 47,
   "metadata": {},
   "outputs": [
    {
     "data": {
      "text/plain": [
       "5"
      ]
     },
     "execution_count": 47,
     "metadata": {},
     "output_type": "execute_result"
    }
   ],
   "source": [
    "a.__getitem__(2)"
   ]
  },
  {
   "cell_type": "code",
   "execution_count": 27,
   "metadata": {},
   "outputs": [
    {
     "ename": "TypeError",
     "evalue": "unorderable types: NoneType() < int()",
     "traceback": [
      "\u001b[0;31m---------------------------------------------------------------------------\u001b[0m",
      "\u001b[0;31mAttributeError\u001b[0m                            Traceback (most recent call last)",
      "\u001b[0;32mC:\\Users\\shane\\Anaconda3\\lib\\site-packages\\numpy\\core\\fromnumeric.py\u001b[0m in \u001b[0;36margmin\u001b[0;34m(a, axis, out)\u001b[0m\n\u001b[1;32m   1029\u001b[0m     \u001b[1;32mtry\u001b[0m\u001b[1;33m:\u001b[0m\u001b[1;33m\u001b[0m\u001b[0m\n\u001b[0;32m-> 1030\u001b[0;31m         \u001b[0margmin\u001b[0m \u001b[1;33m=\u001b[0m \u001b[0ma\u001b[0m\u001b[1;33m.\u001b[0m\u001b[0margmin\u001b[0m\u001b[1;33m\u001b[0m\u001b[0m\n\u001b[0m\u001b[1;32m   1031\u001b[0m     \u001b[1;32mexcept\u001b[0m \u001b[0mAttributeError\u001b[0m\u001b[1;33m:\u001b[0m\u001b[1;33m\u001b[0m\u001b[0m\n",
      "\u001b[0;31mAttributeError\u001b[0m: 'list' object has no attribute 'argmin'",
      "\nDuring handling of the above exception, another exception occurred:\n",
      "\u001b[0;31mTypeError\u001b[0m                                 Traceback (most recent call last)",
      "\u001b[0;32m<ipython-input-27-bd831f2c8774>\u001b[0m in \u001b[0;36m<module>\u001b[0;34m()\u001b[0m\n\u001b[0;32m----> 1\u001b[0;31m \u001b[0mnp\u001b[0m\u001b[1;33m.\u001b[0m\u001b[0margmin\u001b[0m\u001b[1;33m(\u001b[0m\u001b[0ma\u001b[0m\u001b[1;33m)\u001b[0m\u001b[1;33m\u001b[0m\u001b[0m\n\u001b[0m\u001b[1;32m      2\u001b[0m \u001b[1;31m# np.min(a)\u001b[0m\u001b[1;33m\u001b[0m\u001b[1;33m\u001b[0m\u001b[0m\n",
      "\u001b[0;32mC:\\Users\\shane\\Anaconda3\\lib\\site-packages\\numpy\\core\\fromnumeric.py\u001b[0m in \u001b[0;36margmin\u001b[0;34m(a, axis, out)\u001b[0m\n\u001b[1;32m   1030\u001b[0m         \u001b[0margmin\u001b[0m \u001b[1;33m=\u001b[0m \u001b[0ma\u001b[0m\u001b[1;33m.\u001b[0m\u001b[0margmin\u001b[0m\u001b[1;33m\u001b[0m\u001b[0m\n\u001b[1;32m   1031\u001b[0m     \u001b[1;32mexcept\u001b[0m \u001b[0mAttributeError\u001b[0m\u001b[1;33m:\u001b[0m\u001b[1;33m\u001b[0m\u001b[0m\n\u001b[0;32m-> 1032\u001b[0;31m         \u001b[1;32mreturn\u001b[0m \u001b[0m_wrapit\u001b[0m\u001b[1;33m(\u001b[0m\u001b[0ma\u001b[0m\u001b[1;33m,\u001b[0m \u001b[1;34m'argmin'\u001b[0m\u001b[1;33m,\u001b[0m \u001b[0maxis\u001b[0m\u001b[1;33m,\u001b[0m \u001b[0mout\u001b[0m\u001b[1;33m)\u001b[0m\u001b[1;33m\u001b[0m\u001b[0m\n\u001b[0m\u001b[1;32m   1033\u001b[0m     \u001b[1;32mreturn\u001b[0m \u001b[0margmin\u001b[0m\u001b[1;33m(\u001b[0m\u001b[0maxis\u001b[0m\u001b[1;33m,\u001b[0m \u001b[0mout\u001b[0m\u001b[1;33m)\u001b[0m\u001b[1;33m\u001b[0m\u001b[0m\n\u001b[1;32m   1034\u001b[0m \u001b[1;33m\u001b[0m\u001b[0m\n",
      "\u001b[0;32mC:\\Users\\shane\\Anaconda3\\lib\\site-packages\\numpy\\core\\fromnumeric.py\u001b[0m in \u001b[0;36m_wrapit\u001b[0;34m(obj, method, *args, **kwds)\u001b[0m\n\u001b[1;32m     45\u001b[0m     \u001b[1;32mexcept\u001b[0m \u001b[0mAttributeError\u001b[0m\u001b[1;33m:\u001b[0m\u001b[1;33m\u001b[0m\u001b[0m\n\u001b[1;32m     46\u001b[0m         \u001b[0mwrap\u001b[0m \u001b[1;33m=\u001b[0m \u001b[1;32mNone\u001b[0m\u001b[1;33m\u001b[0m\u001b[0m\n\u001b[0;32m---> 47\u001b[0;31m     \u001b[0mresult\u001b[0m \u001b[1;33m=\u001b[0m \u001b[0mgetattr\u001b[0m\u001b[1;33m(\u001b[0m\u001b[0masarray\u001b[0m\u001b[1;33m(\u001b[0m\u001b[0mobj\u001b[0m\u001b[1;33m)\u001b[0m\u001b[1;33m,\u001b[0m \u001b[0mmethod\u001b[0m\u001b[1;33m)\u001b[0m\u001b[1;33m(\u001b[0m\u001b[1;33m*\u001b[0m\u001b[0margs\u001b[0m\u001b[1;33m,\u001b[0m \u001b[1;33m**\u001b[0m\u001b[0mkwds\u001b[0m\u001b[1;33m)\u001b[0m\u001b[1;33m\u001b[0m\u001b[0m\n\u001b[0m\u001b[1;32m     48\u001b[0m     \u001b[1;32mif\u001b[0m \u001b[0mwrap\u001b[0m\u001b[1;33m:\u001b[0m\u001b[1;33m\u001b[0m\u001b[0m\n\u001b[1;32m     49\u001b[0m         \u001b[1;32mif\u001b[0m \u001b[1;32mnot\u001b[0m \u001b[0misinstance\u001b[0m\u001b[1;33m(\u001b[0m\u001b[0mresult\u001b[0m\u001b[1;33m,\u001b[0m \u001b[0mmu\u001b[0m\u001b[1;33m.\u001b[0m\u001b[0mndarray\u001b[0m\u001b[1;33m)\u001b[0m\u001b[1;33m:\u001b[0m\u001b[1;33m\u001b[0m\u001b[0m\n",
      "\u001b[0;31mTypeError\u001b[0m: unorderable types: NoneType() < int()"
     ],
     "output_type": "error"
    }
   ],
   "source": [
    "np.argmin(a)\n",
    "# np.min(a)"
   ]
  },
  {
   "cell_type": "code",
   "execution_count": 19,
   "metadata": {},
   "outputs": [
    {
     "data": {
      "text/plain": [
       "[3, 4, 5]"
      ]
     },
     "execution_count": 19,
     "metadata": {},
     "output_type": "execute_result"
    }
   ],
   "source": [
    "a = [3, 4, 5]\n",
    "a"
   ]
  },
  {
   "cell_type": "code",
   "execution_count": 60,
   "metadata": {},
   "outputs": [
    {
     "ename": "TypeError",
     "evalue": "list indices must be integers or slices, not tuple",
     "traceback": [
      "\u001b[0;31m---------------------------------------------------------------------------\u001b[0m",
      "\u001b[0;31mTypeError\u001b[0m                                 Traceback (most recent call last)",
      "\u001b[0;32m<ipython-input-60-f024f2af36fe>\u001b[0m in \u001b[0;36m<module>\u001b[0;34m()\u001b[0m\n\u001b[1;32m      3\u001b[0m \u001b[1;31m# id = slice(0,1)\u001b[0m\u001b[1;33m\u001b[0m\u001b[1;33m\u001b[0m\u001b[0m\n\u001b[1;32m      4\u001b[0m \u001b[0mid\u001b[0m \u001b[1;33m=\u001b[0m \u001b[1;34m'1,2'\u001b[0m\u001b[1;33m\u001b[0m\u001b[0m\n\u001b[0;32m----> 5\u001b[0;31m \u001b[0mmn\u001b[0m\u001b[1;33m[\u001b[0m\u001b[0meval\u001b[0m\u001b[1;33m(\u001b[0m\u001b[0mid\u001b[0m\u001b[1;33m)\u001b[0m\u001b[1;33m]\u001b[0m\u001b[1;33m\u001b[0m\u001b[0m\n\u001b[0m\u001b[1;32m      6\u001b[0m \u001b[1;31m# mn[id]\u001b[0m\u001b[1;33m\u001b[0m\u001b[1;33m\u001b[0m\u001b[0m\n",
      "\u001b[0;31mTypeError\u001b[0m: list indices must be integers or slices, not tuple"
     ],
     "output_type": "error"
    }
   ],
   "source": [
    "7mn = [[1,2,3],[4,5,7]]\n",
    "# id = [1,2]\n",
    "# id = slice(0,1)\n",
    "id = '1,2'\n",
    "mn[eval(id)]\n",
    "# mn[id]"
   ]
  }
 ],
 "metadata": {
  "kernelspec": {
   "display_name": "Python 2",
   "language": "python",
   "name": "python2"
  },
  "language_info": {
   "codemirror_mode": {
    "name": "ipython",
    "version": 2.0
   },
   "file_extension": ".py",
   "mimetype": "text/x-python",
   "name": "python",
   "nbconvert_exporter": "python",
   "pygments_lexer": "ipython2",
   "version": "2.7.6"
  }
 },
 "nbformat": 4,
 "nbformat_minor": 0
}